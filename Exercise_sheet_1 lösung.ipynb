{
 "cells": [
  {
   "cell_type": "markdown",
   "metadata": {},
   "source": [
    "---\n",
    "---\n",
    "\n",
    "<h1><center><ins>Exercise Sheet 1</ins></center></h1>\n",
    "<h2><center>Numerical Methods <br><br> Deadline: 17 October 2024</center></h2>\n",
    "\n",
    "---\n",
    "---"
   ]
  },
  {
   "cell_type": "markdown",
   "metadata": {},
   "source": [
    "## Exercise 1 - FizzBuzz\n",
    "\n",
    "Write a program that prints integer numbers from 1 to 25. For multiples of 3 print `\"Fizz\"` instead of the number, and for multiples of 5 print `\"Buzz\"`.\n",
    "\n",
    "**Careful:** for multiples of 3 and 5, you should print `\"FizzBuzz\"`!"
   ]
  },
  {
   "cell_type": "code",
   "execution_count": 1,
   "metadata": {},
   "outputs": [
    {
     "name": "stdout",
     "output_type": "stream",
     "text": [
      "1\n",
      "2\n",
      "Fizz\n",
      "4\n",
      "Buzz\n",
      "Fizz\n",
      "7\n",
      "8\n",
      "Fizz\n",
      "Buzz\n",
      "11\n",
      "Fizz\n",
      "13\n",
      "14\n",
      "FizzBuzz\n",
      "16\n",
      "17\n",
      "Fizz\n",
      "19\n",
      "Buzz\n",
      "Fizz\n",
      "22\n",
      "23\n",
      "Fizz\n",
      "Buzz\n"
     ]
    }
   ],
   "source": [
    "for i in range(1, 26):\n",
    "    if i % 3 == 0 and i % 5 == 0:\n",
    "        print(\"FizzBuzz\")\n",
    "    elif i % 3 == 0:\n",
    "        print(\"Fizz\")\n",
    "    elif i % 5 == 0:\n",
    "        print(\"Buzz\")\n",
    "    else:\n",
    "        print(i)\n"
   ]
  },
  {
   "cell_type": "code",
   "execution_count": null,
   "metadata": {},
   "outputs": [],
   "source": []
  },
  {
   "cell_type": "markdown",
   "metadata": {},
   "source": [
    "## Exercise 2 - Leap years\n",
    "\n",
    "**(a)** Write a function that, given a year, reports if it is a [leap year]. The tricky thing is that a leap year in the Gregorian calendar occurs:\n",
    " * on every year that is evenly divisible by 4\n",
    " * except every year that is evenly divisible by 100\n",
    " * unless the year is also evenly divisible by 400\n",
    " \n",
    "For example, 1995 is not a leap year, but 1996 is. 1900 is not a leap year, but 2000 is.\n",
    "\n",
    "**(b)** Test your function on some selected years that allow you to check if it provides the correct solution."
   ]
  },
  {
   "cell_type": "code",
   "execution_count": 2,
   "metadata": {},
   "outputs": [
    {
     "name": "stdout",
     "output_type": "stream",
     "text": [
      "144: Leap year\n",
      "1200: Leap year\n",
      "1600: Leap year\n",
      "1900: Not a leap year\n",
      "2000: Leap year\n",
      "2025: Not a leap year\n",
      "2100: Not a leap year\n"
     ]
    }
   ],
   "source": [
    "def is_leap_year(year):\n",
    "    if year % 400 == 0:\n",
    "        return True\n",
    "    elif year % 100 == 0:\n",
    "        return False\n",
    "    elif year % 4 == 0:\n",
    "        return True\n",
    "    else:\n",
    "        return False\n",
    "\n",
    "test_years = [144, 1200, 1600, 1900, 2000, 2025, 2100]\n",
    "\n",
    "for y in test_years:\n",
    "    if is_leap_year(y):\n",
    "        print(f\"{y} is a leap year\")\n",
    "    else:\n",
    "        print(f\"{y} is not a leap year\")\n",
    "\n",
    "\n",
    "\n"
   ]
  },
  {
   "cell_type": "code",
   "execution_count": null,
   "metadata": {},
   "outputs": [],
   "source": [
    "\n"
   ]
  },
  {
   "cell_type": "code",
   "execution_count": null,
   "metadata": {},
   "outputs": [],
   "source": []
  },
  {
   "cell_type": "markdown",
   "metadata": {},
   "source": [
    "## Exercise 3 - Rigged dice\n",
    "\n",
    "**(a)** Create a rigged dice function that 25% of the time returns the number 6. The rest of the time it returns the integers 1,2,3,4,5 uniformly.\n",
    "\n",
    "**(b)** Test your function, by calling it 100k times and checking that 6 is returned in the range of 24700-25300 (inclusive) times. You do not need to check that numbers 1 to 5 are returned uniformly or randomly, but you need to check that your function returns integers in the range 1-6 (inclusive). Such a test works roughly 98% of the time, so you might want to run it twice if you are confident your solution is correct."
   ]
  },
  {
   "cell_type": "code",
   "execution_count": null,
   "metadata": {},
   "outputs": [
    {
     "name": "stdout",
     "output_type": "stream",
     "text": [
      "Number of 6s: 24855\n",
      "All results in range 1–6: True\n",
      "Test passed\n"
     ]
    }
   ],
   "source": [
    "import random\n",
    "\n",
    "# (a) Rigged dice function\n",
    "def rigged_dice():\n",
    "    #Return an integer 1–6, with 6 appearing ~25% of the time\n",
    "    if random.random() < 0.25:   \n",
    "        return 6\n",
    "    else:\n",
    "        return random.randint(1, 5)  \n",
    "\n",
    "\n",
    "num_trials = 100_000\n",
    "results = [rigged_dice() for _ in range(num_trials)]\n",
    "\n",
    "\n",
    "count_six = results.count(6)\n",
    "\n",
    "\n",
    "print(f\"Number of 6s: {count_six}\")\n",
    "print(f\"All results in range 1–6: {all(1 <= x <= 6 for x in results)}\")\n",
    "\n",
    "if 24700 <= count_six <= 25300:\n",
    "    print(\"Test passed\")\n",
    "else:\n",
    "    print(\"Test failed\")\n"
   ]
  },
  {
   "cell_type": "code",
   "execution_count": null,
   "metadata": {},
   "outputs": [],
   "source": []
  },
  {
   "cell_type": "markdown",
   "metadata": {},
   "source": [
    "## Exercise 4 - Find the fake coin\n",
    "\n",
    "Consider this famous puzzle: _\"You have 8 coins: all the coins have equal weight, except one. The odd one weights less than the others, not being of pure gold. In the worst case, how many iterations do you need to find the odd one out on a two plates scale?\"_\n",
    "\n",
    "Write a function that returns the minimum amount of weighing it will take to measure `N` coins in every possible occurrence (including worst case scenario, i.e.: without relying on luck at all!). The number `N` is guaranteed to be a positive integer.\n",
    "\n",
    "**Tip:** being able to think recursively might help here!\n",
    "\n",
    "**Note:** this is clearly a logical problem, because a good coder is a master of pattern recognition and subsequent optimization! ;)"
   ]
  },
  {
   "cell_type": "code",
   "execution_count": null,
   "metadata": {},
   "outputs": [
    {
     "name": "stdout",
     "output_type": "stream",
     "text": [
      "1 coins → 0 weighings\n",
      "2 coins → 1 weighings\n",
      "3 coins → 1 weighings\n",
      "8 coins → 2 weighings\n",
      "9 coins → 2 weighings\n",
      "27 coins → 3 weighings\n",
      "28 coins → 4 weighings\n"
     ]
    }
   ],
   "source": [
    "import math\n",
    "\n",
    "def min_weighings(N):\n",
    "    #Returns the minimum amount of weighing\n",
    "    return math.ceil(math.log(N, 3))\n",
    "\n",
    "test_cases = [1, 2, 3, 8, 9, 27, 28]\n",
    "for n in test_cases:\n",
    "    print(f\"{n} coins → {min_weighings(n)} weighings\")\n"
   ]
  },
  {
   "cell_type": "code",
   "execution_count": null,
   "metadata": {},
   "outputs": [],
   "source": []
  },
  {
   "cell_type": "code",
   "execution_count": null,
   "metadata": {},
   "outputs": [],
   "source": []
  }
 ],
 "metadata": {
  "kernelspec": {
   "display_name": "infovenv",
   "language": "python",
   "name": "python3"
  },
  "language_info": {
   "codemirror_mode": {
    "name": "ipython",
    "version": 3
   },
   "file_extension": ".py",
   "mimetype": "text/x-python",
   "name": "python",
   "nbconvert_exporter": "python",
   "pygments_lexer": "ipython3",
   "version": "3.10.12"
  }
 },
 "nbformat": 4,
 "nbformat_minor": 4
}
